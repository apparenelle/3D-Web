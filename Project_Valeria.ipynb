{
  "nbformat": 4,
  "nbformat_minor": 0,
  "metadata": {
    "colab": {
      "provenance": [],
      "authorship_tag": "ABX9TyNYiGUav/HPvflNLYF4vJ3M",
      "include_colab_link": true
    },
    "kernelspec": {
      "name": "python3",
      "display_name": "Python 3"
    },
    "language_info": {
      "name": "python"
    }
  },
  "cells": [
    {
      "cell_type": "markdown",
      "metadata": {
        "id": "view-in-github",
        "colab_type": "text"
      },
      "source": [
        "<a href=\"https://colab.research.google.com/github/apparenelle/3D-Web/blob/main/Project_Valeria.ipynb\" target=\"_parent\"><img src=\"https://colab.research.google.com/assets/colab-badge.svg\" alt=\"Open In Colab\"/></a>"
      ]
    },
    {
      "cell_type": "markdown",
      "source": [
        "Project Valeria (Algo Trading Bot)\n",
        "\n",
        "Updates:\n",
        "- i made progress. we can view unusual daily volume for nvda"
      ],
      "metadata": {
        "id": "zN1T9_OvXDkY"
      }
    },
    {
      "cell_type": "markdown",
      "source": [
        "**Libraries**\n",
        "- yfinance - provides stock price history | Open Close High Low Volume Stock_Splits\n",
        "- datetime - standard datetime obj.\n",
        "- numpy - statistical analysis | percentile\n",
        "- math - cleaning numerics | ceil"
      ],
      "metadata": {
        "id": "E6TEJL6dkLKh"
      }
    },
    {
      "cell_type": "code",
      "execution_count": 151,
      "metadata": {
        "id": "zsSIbo_FkI9i"
      },
      "outputs": [],
      "source": [
        "import yfinance as yf\n",
        "import datetime\n",
        "import numpy as np\n",
        "import math\n",
        "import pandas as pd\n",
        "\n",
        "pd.set_option('display.max_rows', 100)  # Example: show up to 100 rows\n",
        "pd.set_option('display.max_columns', 50)"
      ]
    },
    {
      "cell_type": "markdown",
      "source": [
        "Apple Stock Info"
      ],
      "metadata": {
        "id": "ISVDuCxc1TyT"
      }
    },
    {
      "cell_type": "markdown",
      "source": [
        "History of AAPL  for the last 2 years || 2 years ago was the last stock split\n",
        "\n",
        "- to allow 30 years of data analysis, adjust all stock data for stock splits"
      ],
      "metadata": {
        "id": "8cvGN0l_sZAs"
      }
    },
    {
      "cell_type": "code",
      "source": [
        "# Find and print all days where volume is higher than 87 million"
      ],
      "metadata": {
        "id": "0P2gUTdeRKkQ"
      },
      "execution_count": 152,
      "outputs": []
    },
    {
      "cell_type": "code",
      "source": [
        "def printDaysOfHighVolume_ARR(X, Y, target_percentile):\n",
        "  arr = list()\n",
        "  for x,y in zip(X, Y):\n",
        "    if (y > target_percentile): #replace 115 mil w/ the target above and convert this to a function\n",
        "      print(x, 'Volume:  ' + str(y))\n",
        "      arr.append([x,y])\n",
        "  return arr"
      ],
      "metadata": {
        "id": "YYta23zS5DSF"
      },
      "execution_count": 153,
      "outputs": []
    },
    {
      "cell_type": "code",
      "source": [
        "# printDaysOfHighVolume_ARR(aapl_date_vol_df['Date'], aapl_date_vol_df['Volume'], stock_AT_80_percentile)"
      ],
      "metadata": {
        "id": "uvPNQRS8NwKU"
      },
      "execution_count": 154,
      "outputs": []
    },
    {
      "cell_type": "markdown",
      "source": [
        "Some months above have continous days of large orders in the same week"
      ],
      "metadata": {
        "id": "Jh_pKcTZXQh1"
      }
    },
    {
      "cell_type": "code",
      "source": [
        "# stock info obj.\n",
        "class stock_data:\n",
        "  def __init__(self, symbol:str):\n",
        "    self.symbol = symbol\n",
        "    self.stock = yf.Ticker(symbol)\n",
        "    self.info = self.stock.info\n",
        "\n",
        "  def getHistory(self, days):\n",
        "    symbol = self.symbol\n",
        "    stock = self.stock\n",
        "    history = stock.history(period=(str(days)+'d'), interval='1d').reset_index()\n",
        "    self.history = history\n",
        "    return history\n",
        "\n",
        "  def calc_future_close_indicator(self, daysAhead=5):\n",
        "    history = self.history\n",
        "\n",
        "    if history.empty:\n",
        "      print('History is empty')\n",
        "      print('Please call getHistory()')\n",
        "      return None\n",
        "\n",
        "    else:\n",
        "      # future_close column added to history\n",
        "      history['Future_Close_Indicator'] = 0\n",
        "\n",
        "      future_close_shifted = history['Close'].shift(-daysAhead)\n",
        "\n",
        "      history['Future_Close_Indicator'] = (future_close_shifted > history['Close']).astype(int)\n",
        "      self.history = history\n",
        "\n",
        "      return history\n",
        "\n",
        "\n",
        "\n",
        "  def calcVolumePercentilesFromHist(self):\n",
        "    history = self.history\n",
        "\n",
        "    # retrieves 70th, 80th, and 90th, percentile\n",
        "    if history.empty is False:\n",
        "      percentiles = {\n",
        "                      '70': math.ceil(np.percentile(self.history['Volume'], 70)),\n",
        "                      '80': math.ceil(np.percentile(self.history['Volume'], 80)),\n",
        "                      '90': math.ceil(np.percentile(self.history['Volume'], 90))\n",
        "                    }\n",
        "      self.vol_percentiles = percentiles\n",
        "      return percentiles\n",
        "    else:\n",
        "      print('History is empty')\n",
        "      print('Please call getHistory()')\n",
        "      return None\n",
        "\n",
        "  def findLastStockSplitIndex(self):\n",
        "    history = self.history\n",
        "\n",
        "    if not history.empty:\n",
        "      for index, value in history['Stock Splits'][::-1].items():\n",
        "        if value > 0.0:\n",
        "          return index\n",
        "      return 'No stock splits present.'\n",
        "\n",
        "  def movingAverages(self):\n",
        "    #Grab history\n",
        "    history = self.history\n",
        "\n",
        "    # Add columns for 5-Day, 10-Day, and 20-Day moving averages\n",
        "    history['5-Day_Moving_Avg'] = history['Close'].rolling(window=5, min_periods=1).mean()\n",
        "    history['10-Day_Moving_Avg'] = history['Close'].rolling(window=10, min_periods=1).mean()\n",
        "    history['20-Day_Moving_Avg'] = history['Close'].rolling(window=20, min_periods=1).mean()\n",
        "\n",
        "    #Save to object df\n",
        "    self.history = history\n",
        "\n",
        "  def removeTime(self):\n",
        "    # removes time from stock history for cleaner code\n",
        "    history = self.history\n",
        "\n",
        "    if history.empty is False:\n",
        "      def dateColtoDateObj(a):\n",
        "        return a.date()\n",
        "\n",
        "      # time mentioned in Date col. is removed;\n",
        "      # self.last_history['Date'] = list(map(dateColtoDateObj, history['Date']))\n",
        "\n",
        "      # or\n",
        "      self.history['Date'] = self.history['Date'].apply(lambda a: a.date())\n",
        "\n",
        "      return self.history\n",
        "    else:\n",
        "      print('History never was saved')\n",
        "      print('Please recover history.')\n",
        "      return None\n",
        "\n"
      ],
      "metadata": {
        "id": "o5ynKxC4GoZG"
      },
      "execution_count": 155,
      "outputs": []
    },
    {
      "cell_type": "code",
      "source": [
        "#pre-processing for AI models\n",
        "class data_cleaner:\n",
        "  def __init__(self, data, stock):\n",
        "    self.data = data\n",
        "    self.stock = stock\n",
        "\n",
        "  def display_info(self):\n",
        "    print(self.data)\n",
        "\n",
        "  def clean(self):\n",
        "    dataframe = self.data\n",
        "    stock = self.stock\n",
        "\n",
        "    #all yf data already adjusted for splits\n",
        "    dataframe = dataframe.drop(columns=['Stock Splits', 'Dividends'], axis=1)\n",
        "\n",
        "    # stock percentiles or 'low' make out of 0 - 4\n",
        "    def rankingVolume(a, ranking):\n",
        "      if a <= ranking['70']:\n",
        "        return 0\n",
        "      elif a > ranking['70'] and a <= ranking['80']:\n",
        "        return 1\n",
        "      elif a > ranking['80'] and a <= ranking['90']:\n",
        "        return 2\n",
        "      elif a >= ranking['90']:\n",
        "        return 3\n",
        "      else:\n",
        "        print('Something is off w/ the volume')\n",
        "        return -1\n",
        "\n",
        "    # Adds volume ranking to df\n",
        "    dataframe['Volume_Ranking'] = dataframe['Volume'].apply(lambda x: rankingVolume(x, stock.vol_percentiles))\n",
        "\n",
        "    def priceMovement(row):\n",
        "      low = row['Low']\n",
        "      high = row['High']\n",
        "      open_ = row['Open']  # Renamed to open_ to avoid conflict with Python's open function\n",
        "      close = row['Close']\n",
        "\n",
        "      if close >= open_:\n",
        "        return high - low\n",
        "      else:\n",
        "        return (high - low) * -1\n",
        "\n",
        "    #Price change from open to close\n",
        "    dataframe['Price_Movement'] = dataframe.apply(priceMovement, axis=1)\n",
        "\n",
        "    #add a day column for an iterator called days\n",
        "    dataframe['Day'] = range(1, len(dataframe)+1)\n",
        "\n",
        "    #what is the measure of success?\n",
        "\n",
        "    #saves changes\n",
        "    self.data = dataframe\n",
        "\n",
        "  def remove_last(self, amount=10):\n",
        "      self.data = self.data.iloc[:-10]\n",
        "      print('Last Records Removed.')\n",
        "      return self.data\n",
        "\n",
        "  def reOrder(self):\n",
        "    new_order = ['Date', 'Day', 'Price_Movement', 'Open', 'High', 'Low', 'Close', 'Volume', 'Volume_Ranking', '5-Day_Moving_Avg', '10-Day_Moving_Avg', '20-Day_Moving_Avg', 'Future_Close_Indicator']\n",
        "    self.data = self.data[new_order]\n",
        "    return self.data\n",
        "\n",
        "  def toCSV(self, fileName, sep):\n",
        "    data = self.data\n",
        "    data.to_csv(fileName, sep=sep, index=False, encoding='utf-8')\n"
      ],
      "metadata": {
        "id": "HCCEz4aEbt_w"
      },
      "execution_count": 156,
      "outputs": []
    },
    {
      "cell_type": "code",
      "source": [
        "def main1():\n",
        "  stock = stock_data('aapl')\n",
        "\n",
        "  stock.getHistory(days=1826)\n",
        "  stock.removeTime()\n",
        "\n",
        "  stock.movingAverages()\n",
        "  stock.calcVolumePercentilesFromHist()\n",
        "  stock.calc_future_close_indicator()\n",
        "\n",
        "  # print(stock.history)\n",
        "  # print(stock.calcVolumePercentilesFromHist())\n",
        "\n",
        "  #cleaner must be used after stock attributes have been configured\n",
        "  cleaner = data_cleaner(stock.history, stock)\n",
        "  cleaner.clean()\n",
        "\n",
        "  cleaner.reOrder()\n",
        "  cleaner.display_info()\n",
        "\n",
        "  cleaner.toCSV(fileName='./stock_data.csv', sep=',')\n",
        "\n",
        "\n",
        "  # Relevant Fields\n",
        "  # ['Date', 'Open', 'High', 'Low', 'Close', 'Volume', 'Dividends', 'Stock Split', 'Volume Ranking', 'Price Movement', '5-Day_Moving_Avg', '10-Day_Moving_Avg', '20-Day_Moving_Avg']\n",
        "\n",
        "  # 70th Percentile         87 million shares a day  --- AAPL\n",
        "  # 80th Percentile         96 million shares a day  --- AAPL\n",
        "  # 90th Percentile         115 million shares a day --- AAPL\n",
        "\n",
        "  # RETURNING processed dataset\n",
        "  cleaner.remove_last()\n",
        "  return cleaner.data\n"
      ],
      "metadata": {
        "id": "dVBfyIgMj1nD"
      },
      "execution_count": 157,
      "outputs": []
    },
    {
      "cell_type": "code",
      "source": [
        "dataset = main1()\n",
        "dataset\n",
        "\n",
        "\n",
        "#trim last 10 days during cleaning and before training\n",
        "\n",
        "\n",
        "#Split the dataset into train and test sets\n",
        "X = ['Price_Movement', 'Open', 'High', 'Low', 'Close', 'Volume', 'Volume_Ranking', '5-Day_Moving_Avg', '10-Day_Moving_Avg', '20-Day_Moving_Avg', 'Future_Close_Indicator']\n",
        "\n",
        "#Fit the data into the model\n",
        "from sklearn.tree import DecisionTreeClassifier\n",
        "\n",
        "# clf = DecisionTreeClassifier()."
      ],
      "metadata": {
        "colab": {
          "base_uri": "https://localhost:8080/"
        },
        "id": "hGr0Bagz5nI2",
        "outputId": "3aa7c594-9ab5-4925-b31b-8847acbfd85a"
      },
      "execution_count": 158,
      "outputs": [
        {
          "output_type": "stream",
          "name": "stdout",
          "text": [
            "            Date   Day  Price_Movement        Open        High         Low  \\\n",
            "0     2016-11-21     1        0.460083   25.588107   26.022629   25.562546   \n",
            "1     2016-11-22     2       -0.237012   26.013329   26.122541   25.885529   \n",
            "2     2016-11-23     3       -0.274192   25.876238   25.911093   25.636902   \n",
            "3     2016-11-25     4        0.213778   25.822792   25.994744   25.780966   \n",
            "4     2016-11-28     5        0.250955   25.892504   26.134165   25.883210   \n",
            "...          ...   ...             ...         ...         ...         ...   \n",
            "1821  2024-02-20  1822       -2.429993  181.789993  182.429993  180.000000   \n",
            "1822  2024-02-21  1823        2.229996  181.940002  182.889999  180.660004   \n",
            "1823  2024-02-22  1824        2.500000  183.479996  184.960007  182.460007   \n",
            "1824  2024-02-23  1825       -2.809998  185.009995  185.039993  182.229996   \n",
            "1825  2024-02-26  1826       -2.100006  182.240005  182.750000  180.649994   \n",
            "\n",
            "           Close     Volume  Volume_Ranking  5-Day_Moving_Avg  \\\n",
            "0      25.962215  117058400               1         25.962215   \n",
            "1      25.978476  103862000               0         25.970345   \n",
            "2      25.846031  109705600               0         25.928907   \n",
            "3      25.976154   45903600               0         25.940719   \n",
            "4      25.925035  108776000               0         25.937582   \n",
            "...          ...        ...             ...               ...   \n",
            "1821  181.559998   53665600               0        183.383997   \n",
            "1822  182.320007   41529700               0        182.839999   \n",
            "1823  184.369995   52292200               0        182.884000   \n",
            "1824  182.520004   45074500               0        182.616000   \n",
            "1825  181.160004   40689520               0        182.386002   \n",
            "\n",
            "      10-Day_Moving_Avg  20-Day_Moving_Avg  Future_Close_Indicator  \n",
            "0             25.962215          25.962215                       0  \n",
            "1             25.970345          25.970345                       0  \n",
            "2             25.928907          25.928907                       0  \n",
            "3             25.940719          25.940719                       0  \n",
            "4             25.937582          25.937582                       0  \n",
            "...                 ...                ...                     ...  \n",
            "1821         185.922739         187.881747                       0  \n",
            "1822         185.248863         187.251184                       0  \n",
            "1823         184.769000         186.757078                       0  \n",
            "1824         184.212999         186.186951                       0  \n",
            "1825         183.443999         185.636212                       0  \n",
            "\n",
            "[1826 rows x 13 columns]\n",
            "Last Records Removed.\n"
          ]
        }
      ]
    },
    {
      "cell_type": "code",
      "source": [
        "#shows last 10 removed\n",
        "# dataset"
      ],
      "metadata": {
        "id": "unP-7b13TdIm"
      },
      "execution_count": 159,
      "outputs": []
    },
    {
      "cell_type": "code",
      "source": [
        "def main2():\n",
        "  dataset = main1()\n",
        "\n",
        "main2()"
      ],
      "metadata": {
        "id": "vHtbegfd53UK",
        "colab": {
          "base_uri": "https://localhost:8080/"
        },
        "outputId": "a1208628-2113-44c0-d2d9-712006f48816"
      },
      "execution_count": 160,
      "outputs": [
        {
          "output_type": "stream",
          "name": "stdout",
          "text": [
            "            Date   Day  Price_Movement        Open        High         Low  \\\n",
            "0     2016-11-21     1        0.460083   25.588107   26.022629   25.562546   \n",
            "1     2016-11-22     2       -0.237012   26.013329   26.122541   25.885529   \n",
            "2     2016-11-23     3       -0.274192   25.876238   25.911093   25.636902   \n",
            "3     2016-11-25     4        0.213778   25.822792   25.994744   25.780966   \n",
            "4     2016-11-28     5        0.250955   25.892504   26.134165   25.883210   \n",
            "...          ...   ...             ...         ...         ...         ...   \n",
            "1821  2024-02-20  1822       -2.429993  181.789993  182.429993  180.000000   \n",
            "1822  2024-02-21  1823        2.229996  181.940002  182.889999  180.660004   \n",
            "1823  2024-02-22  1824        2.500000  183.479996  184.960007  182.460007   \n",
            "1824  2024-02-23  1825       -2.809998  185.009995  185.039993  182.229996   \n",
            "1825  2024-02-26  1826       -2.100006  182.240005  182.750000  180.649994   \n",
            "\n",
            "           Close     Volume  Volume_Ranking  5-Day_Moving_Avg  \\\n",
            "0      25.962215  117058400               1         25.962215   \n",
            "1      25.978476  103862000               0         25.970345   \n",
            "2      25.846031  109705600               0         25.928907   \n",
            "3      25.976154   45903600               0         25.940719   \n",
            "4      25.925035  108776000               0         25.937582   \n",
            "...          ...        ...             ...               ...   \n",
            "1821  181.559998   53665600               0        183.383997   \n",
            "1822  182.320007   41529700               0        182.839999   \n",
            "1823  184.369995   52292200               0        182.884000   \n",
            "1824  182.520004   45074500               0        182.616000   \n",
            "1825  181.160004   40689520               0        182.386002   \n",
            "\n",
            "      10-Day_Moving_Avg  20-Day_Moving_Avg  Future_Close_Indicator  \n",
            "0             25.962215          25.962215                       0  \n",
            "1             25.970345          25.970345                       0  \n",
            "2             25.928907          25.928907                       0  \n",
            "3             25.940719          25.940719                       0  \n",
            "4             25.937582          25.937582                       0  \n",
            "...                 ...                ...                     ...  \n",
            "1821         185.922739         187.881747                       0  \n",
            "1822         185.248863         187.251184                       0  \n",
            "1823         184.769000         186.757078                       0  \n",
            "1824         184.212999         186.186951                       0  \n",
            "1825         183.443999         185.636212                       0  \n",
            "\n",
            "[1826 rows x 13 columns]\n",
            "Last Records Removed.\n"
          ]
        }
      ]
    },
    {
      "cell_type": "markdown",
      "source": [
        "Good News: The data is auto adjusted by yahoo to account for stock splits no work necessary and you can train on as much data as I please!"
      ],
      "metadata": {
        "id": "WMgZiqm3_kV3"
      }
    },
    {
      "cell_type": "markdown",
      "source": [
        "*Tips*\n",
        "```\n",
        "# This is formatted as code\n",
        "# stock = stock_data('aapl')\n",
        "# stock.getHistory(1000)\n",
        "# stock.removeTime()\n",
        "# stock.history\n",
        "# stock.info\n",
        "# stock.calcVolumePercentilesFromHist()\n",
        "\n",
        "\n",
        "# stock.history.iloc[147]\n",
        "# stock.history.loc[147][:]\n",
        "# cleaner = data_cleaner(stock.history, stock)\n",
        "# stock.history.keys()\n",
        "# cleaner.display_info()\n",
        "```"
      ],
      "metadata": {
        "id": "jqsykKjCDfzq"
      }
    }
  ]
}